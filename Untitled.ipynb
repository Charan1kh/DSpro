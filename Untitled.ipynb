{
 "cells": [
  {
   "cell_type": "code",
   "execution_count": null,
   "id": "bc50396c",
   "metadata": {},
   "outputs": [],
   "source": [
    "import cv2 \n",
    "import numpy as np\n",
    "from pyzbar.pyzbar import decode\n",
    "\n",
    "def decoder(image):\n",
    "        gray_img = cv2.cvtColor(image,0)\n",
    "        barcode = decode(gray_img)\n",
    "\n",
    "        for obj in barcode:\n",
    "            points = obj.polygon\n",
    "            (x,y,w,h) = obj.rect\n",
    "            pts = np.array(points, np.int32)\n",
    "            pts = prs.reshape((-1,1,2))\n",
    "            cv2.polylines(image,[pts],True, (0,255,0),3)\n",
    "            barcodeData = obj.data.deocde(\"utf-8\")\n",
    "            barcodeType = obj.type\n",
    "            string = \"Data \" + str(barcodeData) + \" | Type \" + str(barcodeType)\n",
    "            cv2.putText(frame, string, (x,y), cv2.FONT_HERSHEY_SIMPLEX,0.8,(255,0,0),2)\n",
    "            print(\"Barcode: \"+barcodeData+\" |Type: \"+barcodeType)\n",
    "\n",
    "cap = cv2.VideoCapture(0)\n",
    "while True:\n",
    "    ret, frame = cap.read()\n",
    "    decoder(frame)\n",
    "    cv2.imshow('Image', frame)\n",
    "    code = cv2.waitKey(18)\n",
    "    if code == ord('q'):\n",
    "        break"
   ]
  },
  {
   "cell_type": "code",
   "execution_count": null,
   "id": "b6d475cd",
   "metadata": {},
   "outputs": [],
   "source": []
  },
  {
   "cell_type": "code",
   "execution_count": null,
   "id": "306287c9",
   "metadata": {},
   "outputs": [],
   "source": []
  }
 ],
 "metadata": {
  "kernelspec": {
   "display_name": "Python 3",
   "language": "python",
   "name": "python3"
  },
  "language_info": {
   "codemirror_mode": {
    "name": "ipython",
    "version": 3
   },
   "file_extension": ".py",
   "mimetype": "text/x-python",
   "name": "python",
   "nbconvert_exporter": "python",
   "pygments_lexer": "ipython3",
   "version": "3.8.8"
  }
 },
 "nbformat": 4,
 "nbformat_minor": 5
}
